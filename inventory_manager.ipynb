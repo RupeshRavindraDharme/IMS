{
 "cells": [
  {
   "cell_type": "code",
   "execution_count": 33,
   "source": [
    "import json as js"
   ],
   "outputs": [],
   "metadata": {}
  },
  {
   "cell_type": "code",
   "execution_count": 34,
   "source": [
    "with open('Records.json', 'r') as file:\r\n",
    "    records = js.load(file)\r\n",
    "for k, v in records.items():\r\n",
    "    print(f'Id: {k} Product: {v[\"name\"]}   {v[\"price\"]} INR    Available quantity {v[\"quantity\"]}')"
   ],
   "outputs": [
    {
     "output_type": "stream",
     "name": "stdout",
     "text": [
      "Id: 1001 Product: Toolbox   100 INR    Available quantity 180\n",
      "Id: 1002 Product: Smartphone   100 INR    Available quantity 150\n",
      "Id: 1003 Product: Bottle   100 INR    Available quantity 100\n",
      "Id: 1004 Product: Frame   100 INR    Available quantity 100\n",
      "Id: 1005 Product: Toothpaste   100 INR    Available quantity 90\n",
      "Id: 1006 Product: Stationary   100 INR    Available quantity 100\n",
      "Id: 1007 Product: Pages   100 INR    Available quantity 100\n",
      "Id: 1008 Product: Mouse   100 INR    Available quantity 80\n",
      "Id: 1009 Product: Pen   100 INR    Available quantity 90\n",
      "Id: 1011 Product: Mask   100 INR    Available quantity 100\n",
      "Id: 1012 Product: Duster   100 INR    Available quantity 100\n",
      "Id: 1013 Product: Charger   100 INR    Available quantity 100\n",
      "Id: 1014 Product: Headset   100 INR    Available quantity 100\n",
      "Id: 1015 Product: Clothes   100 INR    Available quantity 95\n",
      "Id: 1016 Product: Oil   100 INR    Available quantity 100\n",
      "Id: 1017 Product: Glasses   100 INR    Available quantity 100\n"
     ]
    }
   ],
   "metadata": {}
  },
  {
   "cell_type": "code",
   "execution_count": 35,
   "source": [
    "while(input('Want to buy anything else?(y/n) ')!='n'):\r\n",
    "    id = input('Enter product Id: ')\r\n",
    "    quantity = int(input('Enter quantity: '))\r\n",
    "    for k, v in records.items():\r\n",
    "        if k == id:\r\n",
    "            if v['quantity'] > quantity:\r\n",
    "                v['quantity'] -= quantity\r\n",
    "                print(f'Please pay {quantity * v[\"price\"] } Rupees to the dealer for your {quantity} {v[\"name\"]}\\s')\r\n",
    "            else:\r\n",
    "                print('Quantity you asked for is not available')\r\n",
    "with open('Records.json', 'w') as file:\r\n",
    "    js.dump(records, file)\r\n",
    "print(\"Thank you for purchase\")"
   ],
   "outputs": [
    {
     "output_type": "stream",
     "name": "stdout",
     "text": [
      "Please pay 500 Rupees to the dealer for your 5 Pen\\s\n",
      "Please pay 1300 Rupees to the dealer for your 13 Mouse\\s\n",
      "Thank you for purchase\n"
     ]
    }
   ],
   "metadata": {}
  },
  {
   "cell_type": "code",
   "execution_count": 36,
   "source": [
    "while(input('Want to add anything else?(y/n) ')!='n'):\r\n",
    "    id = input('Enter product Id: ')\r\n",
    "    quantity = int(input('Enter quantity you want to add to inventory: '))\r\n",
    "    for k, v in records.items():\r\n",
    "        if k == id:\r\n",
    "            v['quantity']+=quantity\r\n",
    "            print(f'{quantity} items added to the inventory')\r\n",
    "with open('Records.json', 'w') as file:\r\n",
    "    js.dump(records, file)\r\n",
    "print(\"Thank you for Adding items to inventory\")"
   ],
   "outputs": [
    {
     "output_type": "stream",
     "name": "stdout",
     "text": [
      "75 items added to the inventory\n",
      "80 items added to the inventory\n",
      "Thank you for Adding items to inventory\n"
     ]
    }
   ],
   "metadata": {}
  }
 ],
 "metadata": {
  "orig_nbformat": 4,
  "language_info": {
   "name": "python",
   "version": "3.9.4",
   "mimetype": "text/x-python",
   "codemirror_mode": {
    "name": "ipython",
    "version": 3
   },
   "pygments_lexer": "ipython3",
   "nbconvert_exporter": "python",
   "file_extension": ".py"
  },
  "kernelspec": {
   "name": "python3",
   "display_name": "Python 3.9.4 64-bit"
  },
  "interpreter": {
   "hash": "4fa556aa7530a287ea999c87fc2647f9687d24fc59cec98d2e68a633fe06366d"
  }
 },
 "nbformat": 4,
 "nbformat_minor": 2
}